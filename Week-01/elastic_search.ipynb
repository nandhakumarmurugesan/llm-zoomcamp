{
 "cells": [
  {
   "cell_type": "code",
   "execution_count": 1,
   "id": "bdd0980d-ddb7-4075-8947-d2098b6698e9",
   "metadata": {},
   "outputs": [],
   "source": [
    "#!pip install minsearch"
   ]
  },
  {
   "cell_type": "code",
   "execution_count": 32,
   "id": "d6fd98dc-df49-41a0-8897-02323015cff3",
   "metadata": {},
   "outputs": [],
   "source": [
    "import minsearch, json"
   ]
  },
  {
   "cell_type": "code",
   "execution_count": 33,
   "id": "86496539-0a3e-41d4-a923-2dcbbc65d7f2",
   "metadata": {},
   "outputs": [],
   "source": [
    "with open('documents.json', 'rt') as f_in:\n",
    "    docs_raw = json.load(f_in)"
   ]
  },
  {
   "cell_type": "code",
   "execution_count": 34,
   "id": "0750c738-731c-405c-89e6-3562faccaf52",
   "metadata": {},
   "outputs": [],
   "source": [
    "#docs_raw"
   ]
  },
  {
   "cell_type": "code",
   "execution_count": 35,
   "id": "ae12be07-ff03-4461-bbb0-f92df6004b78",
   "metadata": {},
   "outputs": [],
   "source": [
    "documents=[]\n",
    "\n",
    "for course_dict in docs_raw:\n",
    "    for doc in course_dict['documents']:\n",
    "        doc['course'] = course_dict['course']\n",
    "        documents.append(doc)"
   ]
  },
  {
   "cell_type": "code",
   "execution_count": 36,
   "id": "808676f9-bee6-4594-803e-9cd7bdb95909",
   "metadata": {},
   "outputs": [
    {
     "data": {
      "text/plain": [
       "{'text': \"The purpose of this document is to capture frequently asked technical questions\\nThe exact day and hour of the course will be 15th Jan 2024 at 17h00. The course will start with the first  “Office Hours'' live.1\\nSubscribe to course public Google Calendar (it works from Desktop only).\\nRegister before the course starts using this link.\\nJoin the course Telegram channel with announcements.\\nDon’t forget to register in DataTalks.Club's Slack and join the channel.\",\n",
       " 'section': 'General course-related questions',\n",
       " 'question': 'Course - When will the course start?',\n",
       " 'course': 'data-engineering-zoomcamp'}"
      ]
     },
     "execution_count": 36,
     "metadata": {},
     "output_type": "execute_result"
    }
   ],
   "source": [
    "documents[0]"
   ]
  },
  {
   "cell_type": "code",
   "execution_count": 37,
   "id": "1a9cfbb5-10f9-4a16-828f-fe77c3e19b3b",
   "metadata": {},
   "outputs": [],
   "source": [
    "index = minsearch.Index(\n",
    "    text_fields=['question','section','text'],\n",
    "    keyword_fields=['course']\n",
    ")"
   ]
  },
  {
   "cell_type": "code",
   "execution_count": 38,
   "id": "49f3808a-74dd-4ab5-ad23-b4c8355463fc",
   "metadata": {},
   "outputs": [
    {
     "data": {
      "text/plain": [
       "<minsearch.minsearch.Index at 0x738b7bfb8ce0>"
      ]
     },
     "execution_count": 38,
     "metadata": {},
     "output_type": "execute_result"
    }
   ],
   "source": [
    "index.fit(documents)"
   ]
  },
  {
   "cell_type": "code",
   "execution_count": 39,
   "id": "74455ec1-8caf-4617-8e87-dcd7b60b0a0c",
   "metadata": {},
   "outputs": [],
   "source": [
    "q = 'course already started, can i still enroll'"
   ]
  },
  {
   "cell_type": "code",
   "execution_count": 40,
   "id": "8c009713-bae4-4dfa-b0dd-b0626b32e2ec",
   "metadata": {},
   "outputs": [],
   "source": [
    "# boost = {'question':3.0, 'text':0.5}\n",
    "\n",
    "# results = index.search(\n",
    "#     query=q,\n",
    "#     boost_dict=boost,\n",
    "#     num_results = 10\n",
    "# )"
   ]
  },
  {
   "cell_type": "code",
   "execution_count": 41,
   "id": "50722880-7381-4973-8fda-4285421cfe26",
   "metadata": {},
   "outputs": [],
   "source": [
    "from google import genai\n",
    "import os\n",
    "os.environ[\"GOOGLE_API_KEY\"] =  \"YOUR API KEY HERE\""
   ]
  },
  {
   "cell_type": "code",
   "execution_count": 42,
   "id": "975de54e-3e30-49fb-911a-eb53641dd5ce",
   "metadata": {},
   "outputs": [
    {
     "name": "stdout",
     "output_type": "stream",
     "text": [
      "AI works by learning patterns from data to make predictions or decisions.\n",
      "\n"
     ]
    }
   ],
   "source": [
    "client = genai.Client()\n",
    "\n",
    "response = client.models.generate_content(\n",
    "            model=\"gemini-2.0-flash\", \n",
    "            contents=\"Explain how AI works in a few words?\"\n",
    "        )\n",
    "print(response.text)"
   ]
  },
  {
   "cell_type": "code",
   "execution_count": 43,
   "id": "032c7f1d-05fd-468b-88ad-a8cb64b6f221",
   "metadata": {},
   "outputs": [],
   "source": [
    "def search(query):\n",
    "    boost = {'question':3.0, 'text':0.5}\n",
    "    \n",
    "    results = index.search(\n",
    "        query=query,\n",
    "        filter_dict={'course': 'data-engineering-zoomcamp'},\n",
    "        boost_dict=boost,\n",
    "        num_results = 10\n",
    "        )\n",
    "    return results\n",
    "    "
   ]
  },
  {
   "cell_type": "code",
   "execution_count": 44,
   "id": "b372db0c-6d02-4119-860c-56fe7e500e85",
   "metadata": {},
   "outputs": [],
   "source": [
    "def build_prompt(query, search_results):\n",
    "    prompt_template = \"\"\"\n",
    "        You are a course teaching assistant. \n",
    "        Answer the QUESTION based on the CONTEXT from the FAQ document\n",
    "        Use only the facts from the CONTEXT while answering the QUESTION\n",
    "        If the CONTEXT does not contain the answer, output NONE\n",
    "        QUESTION: {question}\n",
    "        CONTEXT: {context}\n",
    "        \n",
    "        \"\"\".strip()\n",
    "    context =\"\"\n",
    "    for doc in search_results:\n",
    "        context = context + f\"section: {doc['section']}\\n question: {doc['question']}\\n answer: {doc['text']}\\n\\n \" \n",
    "    #print(context)\n",
    "    prompt = prompt_template.format(question = query, context =context).strip()\n",
    "    #print(query)\n",
    "    return prompt"
   ]
  },
  {
   "cell_type": "code",
   "execution_count": 45,
   "id": "e82b476d-7344-492b-bebb-4a1e5a1d1c32",
   "metadata": {},
   "outputs": [],
   "source": [
    "def llm(prompt):\n",
    "    #lets do it in gemini\n",
    "    response = client.models.generate_content(\n",
    "                model=\"gemini-2.0-flash\", \n",
    "                contents= prompt \n",
    "            )\n",
    "    return response.text"
   ]
  },
  {
   "cell_type": "code",
   "execution_count": 46,
   "id": "983b37ca-042c-4154-9747-dc8aa23ad463",
   "metadata": {},
   "outputs": [],
   "source": [
    "def rag(query):\n",
    "    search_results = search(query)\n",
    "    prompt = build_prompt(query, search_results)\n",
    "    answer = llm(prompt)\n",
    "    return(answer)"
   ]
  },
  {
   "cell_type": "code",
   "execution_count": 47,
   "id": "a3aaf8e5-8b54-4e15-a4b4-3b0d91c1c0b4",
   "metadata": {},
   "outputs": [
    {
     "data": {
      "text/plain": [
       "\"Yes, even if you don't register, you're still eligible to submit the homeworks. Be aware, however, that there will be deadlines for turning in the final projects. So don't leave everything for the last minute.\""
      ]
     },
     "execution_count": 47,
     "metadata": {},
     "output_type": "execute_result"
    }
   ],
   "source": [
    "rag('course already started, can i still enroll?')"
   ]
  },
  {
   "cell_type": "code",
   "execution_count": 48,
   "id": "8a6791d9-3dc6-4809-b0d6-e0ad79f7f9ad",
   "metadata": {},
   "outputs": [
    {
     "data": {
      "text/plain": [
       "'```text\\nIn the project directory, run:\\njava -cp build/libs/<jar_name>-1.0-SNAPSHOT.jar:out src/main/java/org/example/JsonProducer.java\\n```'"
      ]
     },
     "execution_count": 48,
     "metadata": {},
     "output_type": "execute_result"
    }
   ],
   "source": [
    "rag(\"how do I run kafka\")"
   ]
  },
  {
   "cell_type": "code",
   "execution_count": 49,
   "id": "2a88a013-a773-4f32-a983-1737d58c255f",
   "metadata": {},
   "outputs": [
    {
     "data": {
      "text/plain": [
       "'Register before the course starts using this link.'"
      ]
     },
     "execution_count": 49,
     "metadata": {},
     "output_type": "execute_result"
    }
   ],
   "source": [
    "rag('How do i enroll in the course')"
   ]
  },
  {
   "cell_type": "code",
   "execution_count": null,
   "id": "d13359bb-c0d4-4d20-9909-72539c7b9bb3",
   "metadata": {},
   "outputs": [],
   "source": []
  },
  {
   "cell_type": "code",
   "execution_count": null,
   "id": "98c88c19-014e-4705-b62b-4b801cd4b1e0",
   "metadata": {},
   "outputs": [],
   "source": []
  },
  {
   "cell_type": "code",
   "execution_count": null,
   "id": "1fd63824-161d-47b8-9d59-4fbefca41e95",
   "metadata": {},
   "outputs": [],
   "source": []
  }
 ],
 "metadata": {
  "kernelspec": {
   "display_name": "Python 3 (ipykernel)",
   "language": "python",
   "name": "python3"
  },
  "language_info": {
   "codemirror_mode": {
    "name": "ipython",
    "version": 3
   },
   "file_extension": ".py",
   "mimetype": "text/x-python",
   "name": "python",
   "nbconvert_exporter": "python",
   "pygments_lexer": "ipython3",
   "version": "3.12.1"
  }
 },
 "nbformat": 4,
 "nbformat_minor": 5
}
